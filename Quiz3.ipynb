{
  "nbformat": 4,
  "nbformat_minor": 0,
  "metadata": {
    "kernelspec": {
      "language": "python",
      "display_name": "Python 3",
      "name": "python3"
    },
    "language_info": {
      "pygments_lexer": "ipython3",
      "nbconvert_exporter": "python",
      "version": "3.6.4",
      "file_extension": ".py",
      "codemirror_mode": {
        "name": "ipython",
        "version": 3
      },
      "name": "python",
      "mimetype": "text/x-python"
    },
    "colab": {
      "name": "Quiz3.ipynb",
      "provenance": []
    }
  },
  "cells": [
    {
      "cell_type": "markdown",
      "metadata": {
        "id": "9pi38jaK5P7K"
      },
      "source": [
        "# $$\\textrm{Summary for below notebook}$$\n",
        "---\n",
        "\n"
      ]
    },
    {
      "cell_type": "markdown",
      "metadata": {
        "id": "hsC8rKSe5XNP"
      },
      "source": [
        "In the link shared we are provided with three tasks which includes training of regression model and select the model on the basis of R square result. Here multiple regression is performed on different features and then R square value is compared and best model is choosed from them.\n",
        "\n",
        "First mbap is taken as response variable and sscp & hscp as the two predictor variables.\n",
        "\n",
        "R square score for this comes to be :-\n",
        "R square score: 0.1749591688855493\n",
        "\n",
        "The scatter of the data points along the fitted regression line is evaluated by R-squared. It is also called the decision coefficient, for multiple regression, or the multiple determination coefficient. Higher R-squared values reflect smaller variations between the measured data and the fitted values for the same data set.\n",
        "\n",
        "Here in this case R-square score is 17.45 % which means that the two predictor choosen for this model only represent ~17% of the variation in the repsonse variable around its mean.\n",
        "\n",
        "For second model we choose  mbap as outcome variable and hscp & degreep as the two predictor variables.\n",
        "\n",
        "For this model R square score comes to be \n",
        "R- Square score: 0.2670526417462227\n",
        "\n",
        "which is better than the first model that is why this model is selected."
      ]
    },
    {
      "cell_type": "markdown",
      "metadata": {
        "id": "KDHNpwFL9gKa"
      },
      "source": [
        "We are also calculating p values of features to find that which feature is significant and can be used while which is not. If P value is less than significance level than (α=0.01 or 0.05 or 0,1) we would reject the null hypothesis. Thus in this notebook the regression model summary shows that the hsc and ssc predictor variables are statistically significant because their p-values equal 0.000.\n",
        "\n",
        "\n",
        "\n"
      ]
    },
    {
      "cell_type": "markdown",
      "metadata": {
        "id": "IxIKCGey5IuE"
      },
      "source": [
        "# $$\\textrm{Multiple Linear Regression}$$\n",
        "---"
      ]
    },
    {
      "cell_type": "markdown",
      "metadata": {
        "id": "ZQPLDwp_5IuF"
      },
      "source": [
        "# Table of contents\n",
        "\n",
        "* [Task](#T1)\n",
        "* [Packages used](#T21) and [Dataset](#T22)\n",
        "* [Data Visualization](#T3)\n",
        "* [Task 1: Training regression model](#T4)\n",
        "    * [Pre processing data](#T41)\n",
        "    * [Estimation by linear regressor](#T42)\n",
        "    * [Interpretting regressor coeff](#T43)\n",
        "    * [Significant check based on OLS summary](#T44)\n",
        "* [Task 2: Training regression model](#T5)\n",
        "    - [Model selection based on R2 score](#T51)\n",
        "* [Task 3: Train a regression model](#T6)\n",
        "    - [Insignificant variable based on OLS summary](#T61)\n",
        "    - [Retrain the model](#T62)\n",
        "    - [Observations True vs Predict](#T63)"
      ]
    },
    {
      "cell_type": "markdown",
      "metadata": {
        "id": "syl4lCBz5IuI"
      },
      "source": [
        "<a id=\"T1\"></a>\n",
        "# Task\n",
        "\n",
        "1) Develop an estimated multiple linear regression equation with mbap as response variable and sscp & hscp as the two predictor variables. Interpret the regression coefficients and check whether they are significant based on the summary output.\n",
        "\n",
        "---\n",
        "2) Estimate a multiple regression equation for each of the below scenarios and based on the model’s R-square comment which model is better. \n",
        "    \n",
        "    (i) Use mbap as outcome variable and sscp & degreep as the two predictor variables.\n",
        "    \n",
        "    (ii) Use mbap as outcome variable and hscp & degreep as the two predictor variables. \n",
        "---\n",
        "3) Show the functional form of a multiple regression model. Build a regression model with mbap as dependent variable and sscp, hscp and degree_p as three independent variables. \n",
        "    \n",
        "    Divide the dataset in the ratio of 80:20 for train and test set (set seed as 1001) and use the train set to build the model. Show the model summary and interpret the p-values of the regression coefficients. \n",
        "    \n",
        "    Remove any insignificant variables and rebuild the model. \n",
        "    \n",
        "    Use this model for prediction on the test set and show the first few observations’ actual value of the test set in comparison to the predicted value."
      ]
    },
    {
      "cell_type": "markdown",
      "metadata": {
        "id": "e_XuOUdy5IuK"
      },
      "source": [
        "<a id=\"T21\"></a>\n",
        "# Packages used"
      ]
    },
    {
      "cell_type": "code",
      "metadata": {
        "_uuid": "8f2839f25d086af736a60e9eeb907d3b93b6e0e5",
        "_cell_guid": "b1076dfc-b9ad-4769-8c92-a6c4dae69d19",
        "trusted": true,
        "id": "NYDgE3VB5IuL"
      },
      "source": [
        "#Libraries used in the kernel\n",
        "\n",
        "import numpy as np # linear algebra\n",
        "import pandas as pd # data processing, CSV file I/O (e.g. pd.read_csv)\n",
        "import seaborn as sns # graphs potting \n",
        "import matplotlib.pyplot as plt\n",
        "from sklearn.model_selection import train_test_split\n",
        "from sklearn.linear_model import LinearRegression\n",
        "from sklearn.metrics import r2_score, classification_report\n",
        "from statsmodels.api import OLS\n",
        "\n",
        "import os\n",
        "for dirname, _, filenames in os.walk('/kaggle/input'):\n",
        "    for filename in filenames:\n",
        "        print(os.path.join(dirname, filename))"
      ],
      "execution_count": null,
      "outputs": []
    },
    {
      "cell_type": "markdown",
      "metadata": {
        "id": "jO7W-ipi5IuP"
      },
      "source": [
        "<a id=\"T22\"></a>\n",
        "# Import Dataset"
      ]
    },
    {
      "cell_type": "code",
      "metadata": {
        "_uuid": "d629ff2d2480ee46fbb7e2d37f6b5fab8052498a",
        "_cell_guid": "79c7e3d0-c299-4dcb-8224-4455121ee9b0",
        "trusted": true,
        "id": "cGlXZQfn5IuQ"
      },
      "source": [
        "dataframe = pd.read_csv(\"../input/factors-affecting-campus-placement/Placement_Data_Full_Class.csv\", index_col=\"sl_no\")\n",
        "dataframe.head()"
      ],
      "execution_count": null,
      "outputs": []
    },
    {
      "cell_type": "code",
      "metadata": {
        "trusted": true,
        "id": "FOwWznmf5IuU"
      },
      "source": [
        "#Make copies of dataframe\n",
        "data_reg = dataframe.copy()\n",
        "data_class = dataframe.copy()"
      ],
      "execution_count": null,
      "outputs": []
    },
    {
      "cell_type": "markdown",
      "metadata": {
        "id": "i4EB4jrV5IuZ"
      },
      "source": [
        "<a id=\"T3\"></a>\n",
        "# Data Visualization"
      ]
    },
    {
      "cell_type": "markdown",
      "metadata": {
        "id": "mNNajEac5IuZ"
      },
      "source": [
        "**This plot shows marks distribution in MBA score**"
      ]
    },
    {
      "cell_type": "code",
      "metadata": {
        "trusted": true,
        "id": "jR-o-ss05Iua"
      },
      "source": [
        "sns.kdeplot(dataframe.mba_p[ dataframe.gender==\"M\"])\n",
        "sns.kdeplot(dataframe.mba_p[ dataframe.gender==\"F\"])\n",
        "plt.legend([\"Male\", \"Female\"])\n",
        "plt.xlabel(\"mba percentage\")\n",
        "plt.show()"
      ],
      "execution_count": null,
      "outputs": []
    },
    {
      "cell_type": "markdown",
      "metadata": {
        "id": "2EPNh5EY5Iud"
      },
      "source": [
        "_average density plot shows Male has lower average score in MBA than Females."
      ]
    },
    {
      "cell_type": "markdown",
      "metadata": {
        "id": "ZjNXOp-u5Iue"
      },
      "source": [
        "**Correlation between different features**"
      ]
    },
    {
      "cell_type": "code",
      "metadata": {
        "trusted": true,
        "id": "RkKojl915Iue"
      },
      "source": [
        "matrix = dataframe.corr()\n",
        "plt.figure(figsize=(8,6))\n",
        "#plot heat map\n",
        "g=sns.heatmap(matrix,annot=True,cmap=\"YlGn_r\")"
      ],
      "execution_count": null,
      "outputs": []
    },
    {
      "cell_type": "markdown",
      "metadata": {
        "id": "BUeAkomY5Iui"
      },
      "source": [
        "_Senior secondary have a higher correlation with MBA score than Higher secondary score_"
      ]
    },
    {
      "cell_type": "code",
      "metadata": {
        "trusted": true,
        "id": "Nrqx6Xl55Iuj"
      },
      "source": [
        "plt.figure(figsize=(12,8))\n",
        "sns.regplot(x=\"ssc_p\",y=\"mba_p\",data=dataframe)\n",
        "sns.regplot(x=\"hsc_p\",y=\"mba_p\",data=dataframe)\n",
        "plt.legend([\"ssc percentage\", \"hsc percentage\"])\n",
        "plt.ylabel(\"mba percentage\")\n",
        "plt.show()"
      ],
      "execution_count": null,
      "outputs": []
    },
    {
      "cell_type": "markdown",
      "metadata": {
        "id": "r9A_Qonr5Iuv"
      },
      "source": [
        "_SSC percentage slightly weighs more for having good MBA score_"
      ]
    },
    {
      "cell_type": "markdown",
      "metadata": {
        "id": "GyLp9F9d5Iuw"
      },
      "source": [
        "<a id=\"T4\"></a>\n",
        "# Task 1: Training regression model"
      ]
    },
    {
      "cell_type": "markdown",
      "metadata": {
        "id": "lrUQ0yYR5Iuw"
      },
      "source": [
        "1. **Develop an estimated multiple linear regression equation with mbap as response variable and sscp & hscp as the two predictor variables. Interpret the regression coefficients and check whether they are significant based on the summary output**"
      ]
    },
    {
      "cell_type": "markdown",
      "metadata": {
        "id": "p9dm5ZRG5Iux"
      },
      "source": [
        "<a id=\"T41\"></a>\n",
        "# Pre processing data"
      ]
    },
    {
      "cell_type": "code",
      "metadata": {
        "trusted": true,
        "id": "bSbelCTl5Iux"
      },
      "source": [
        "# Seperating independent and dependent variables\n",
        "#dependent variables ssc_p, hsc_p\n",
        "X = data_class.iloc[:,[1,3]].values\n",
        "y = data_class.iloc[:,-3].values.reshape(-1,1)"
      ],
      "execution_count": null,
      "outputs": []
    },
    {
      "cell_type": "code",
      "metadata": {
        "trusted": true,
        "id": "-IsiZza_5Iu1"
      },
      "source": [
        "#splitting into training and test set\n",
        "#from sklearn.model_selection import train_test_split\n",
        "X_train, X_test, y_train, y_test = train_test_split( X, y, test_size=0.2, random_state=0)"
      ],
      "execution_count": null,
      "outputs": []
    },
    {
      "cell_type": "markdown",
      "metadata": {
        "id": "cJ_5egtq5Iu4"
      },
      "source": [
        "<a id=\"T42\"></a>\n",
        "## Estimation by multiple regressor"
      ]
    },
    {
      "cell_type": "code",
      "metadata": {
        "trusted": true,
        "id": "kXQ4T1in5Iu5"
      },
      "source": [
        "#Multiple linear regression\n",
        "#import library\n",
        "#from sklearn.linear_model import LinearRegression\n",
        "regressor = LinearRegression()\n",
        "\n",
        "#train the model\n",
        "regressor.fit(X_train, y_train)\n",
        "\n",
        "#predict the test set(mba_p)\n",
        "y_pred_m = regressor.predict(X_test)"
      ],
      "execution_count": null,
      "outputs": []
    },
    {
      "cell_type": "code",
      "metadata": {
        "trusted": true,
        "id": "vCNillk05Iu8"
      },
      "source": [
        "#from sklearn.metrics import r2_score, classification_report\n",
        "print(\"R2 score: \" + str(r2_score(y_test, y_pred_m)))"
      ],
      "execution_count": null,
      "outputs": []
    },
    {
      "cell_type": "markdown",
      "metadata": {
        "id": "b2CCgmtj5IvA"
      },
      "source": [
        "<a id=\"T43\"></a>\n",
        "## Interpreting regression coefficients"
      ]
    },
    {
      "cell_type": "code",
      "metadata": {
        "trusted": true,
        "id": "R4rAMZt25IvA"
      },
      "source": [
        "print(regressor.coef_)\n",
        "print(regressor.intercept_)"
      ],
      "execution_count": null,
      "outputs": []
    },
    {
      "cell_type": "markdown",
      "metadata": {
        "id": "p1q90cDZ5IvJ"
      },
      "source": [
        "The equation of our multiple linear regression model is:\n",
        "\n",
        "$$\\textrm{mba_p} = 0.14 \\times \\textrm{ssc_p} + 0.13 \\times \\textrm{hsc_p} + 44.05$$\n"
      ]
    },
    {
      "cell_type": "markdown",
      "metadata": {
        "id": "2vSr2QhV5IvK"
      },
      "source": [
        "<a id=\"T44\"></a>\n",
        "## Significant check based on OLS summary"
      ]
    },
    {
      "cell_type": "markdown",
      "metadata": {
        "id": "52OD04LM5IvL"
      },
      "source": [
        "* _The significance of a regression coefficient in a regression model is determined by dividing the estimated coefficient over the standard deviation of this estimate._\n",
        "* _For statistical significance we expect the absolute value of the t-ratio to be greater than 2 or the_\n",
        "* _P-value to be less than the significance level (α=0.01 or 0.05 or 0,1)._"
      ]
    },
    {
      "cell_type": "code",
      "metadata": {
        "trusted": true,
        "id": "VfkwRFTf5IvL"
      },
      "source": [
        "#from statsmodels.api import OLS\n",
        "summ=OLS(y_train,X_train).fit()\n",
        "summ.summary()"
      ],
      "execution_count": null,
      "outputs": []
    },
    {
      "cell_type": "markdown",
      "metadata": {
        "id": "iBhQTYil5IvO"
      },
      "source": [
        "**The regression model summary shows that the hsc and ssc predictor variables are statistically significant because their p-values equal 0.000.**"
      ]
    },
    {
      "cell_type": "markdown",
      "metadata": {
        "id": "WA-ZMGRp5IvO"
      },
      "source": [
        "<a id=\"T5\"></a>\n",
        "# Task 2: Training regression model"
      ]
    },
    {
      "cell_type": "markdown",
      "metadata": {
        "id": "OwFJQwhQ5IvP"
      },
      "source": [
        "2. **Estimate a multiple regression equation for each of the below scenarios and based on the model’s R-square comment which model is better.** \n",
        "    \n",
        "    (i) Use mbap as outcome variable and sscp & degreep as the two predictor variables.    "
      ]
    },
    {
      "cell_type": "code",
      "metadata": {
        "trusted": true,
        "id": "CFIHHUyh5IvP"
      },
      "source": [
        "# Seperating independent and dependent variables\n",
        "#dependent variables ssc_p, degree_p\n",
        "X = data_class.iloc[:,[1,6]].values\n",
        "y = data_class.iloc[:,-3].values.reshape(-1,1)\n",
        "\n",
        "#splitting into training and test set\n",
        "#from sklearn.model_selection import train_test_split\n",
        "X_train, X_test, y_train, y_test = train_test_split( X, y, test_size=0.2, random_state=0)\n",
        "\n",
        "#Multiple linear regression\n",
        "#from sklearn.linear_model import LinearRegression\n",
        "regressor = LinearRegression()\n",
        "regressor.fit(X_train, y_train)\n",
        "\n",
        "#predict the dependent variable\n",
        "y_pred_m = regressor.predict(X_test)\n",
        "\n",
        "#from sklearn.metrics import r2_score, classification_report\n",
        "print(\"R2 score: \" + str(r2_score(y_test, y_pred_m)))\n",
        "print(\"regression coeff: \" + str(regressor.coef_))\n",
        "print(\"regression intercept: \" + str(regressor.intercept_))\n",
        "print(\"mba_p = 0.12 x ssc_p + 0.22 x degree_p + 39.66\")"
      ],
      "execution_count": null,
      "outputs": []
    },
    {
      "cell_type": "markdown",
      "metadata": {
        "id": "WwGDP8Yv5IvS"
      },
      "source": [
        "2. **Estimate a multiple regression equation for each of the below scenarios and based on the model’s R-square comment which model is better.** \n",
        "    \n",
        "    (ii) Use mbap as outcome variable and hscp & degreep as the two predictor variables."
      ]
    },
    {
      "cell_type": "code",
      "metadata": {
        "trusted": true,
        "id": "APuYljBy5IvS"
      },
      "source": [
        "# Seperating independent and dependent variables\n",
        "X = data_class.iloc[:,[3,6]].values\n",
        "y = data_class.iloc[:,-3].values.reshape(-1,1)\n",
        "\n",
        "#splitting into training and test set\n",
        "#from sklearn.model_selection import train_test_split\n",
        "X_train, X_test, y_train, y_test = train_test_split( X, y, test_size=0.2, random_state=0)\n",
        "\n",
        "#Multiple linear regression\n",
        "#from sklearn.linear_model import LinearRegression\n",
        "regressor = LinearRegression()\n",
        "regressor.fit(X_train, y_train)\n",
        "y_pred_m = regressor.predict(X_test)\n",
        "\n",
        "#from sklearn.metrics import r2_score, classification_report\n",
        "print(\"R2 score:\" + str(r2_score(y_test, y_pred_m)))\n",
        "print(\"regression coeff:\" + str(regressor.coef_))\n",
        "print(\"regression intercept:\" + str(regressor.intercept_))\n",
        "print(\"mba_p = \" + str(regressor.coef_[0][0]) + \" x hsc_p + \" + str(regressor.coef_[0][1]) + \" x degree_p + \" + str(regressor.intercept_[0]))"
      ],
      "execution_count": null,
      "outputs": []
    },
    {
      "cell_type": "markdown",
      "metadata": {
        "id": "BoyhwbDT5IvX"
      },
      "source": [
        "<a id='51'></a>\n",
        "## model selection based on R2 score"
      ]
    },
    {
      "cell_type": "markdown",
      "metadata": {
        "id": "vMdUm-St5IvY"
      },
      "source": [
        "> **Model with mbap as outcome variable and sscp & degreep as the two predictor variables is better since the r2_score is 0.267**"
      ]
    },
    {
      "cell_type": "markdown",
      "metadata": {
        "id": "EuLdC8PL5IvZ"
      },
      "source": [
        "<a id=\"T6\"></a>\n",
        "# Task 3: Train a regression model"
      ]
    },
    {
      "cell_type": "markdown",
      "metadata": {
        "id": "-n6nplre5IvZ"
      },
      "source": [
        "3) **Show the functional form of a multiple regression model. Build a regression model with mbap as dependent variable and sscp, hscp and degree_p as three independent variables.** \n",
        "    \n",
        "    Divide the dataset in the ratio of 80:20 for train and test set (set seed as 1001) and use the train set to build the model. Show the model summary and interpret the p-values of the regression coefficients. \n",
        "    \n",
        "    Remove any insignificant variables and rebuild the model. \n",
        "    \n",
        "    Use this model for prediction on the test set and show the first few observations’ actual value of the test set in comparison to the predicted value."
      ]
    },
    {
      "cell_type": "markdown",
      "metadata": {
        "id": "R0vQouw35Iva"
      },
      "source": [
        "**_functional form_**\n",
        "> Multiple regression model with mba_p as dependent varialble and ssc_p, hsc_p and degree_p as three independent variables.\n",
        "\n",
        "$$ mba_p = x_1.ssc_p + x_2.hsc_p + x_3.degree_p + constant $$"
      ]
    },
    {
      "cell_type": "code",
      "metadata": {
        "trusted": true,
        "id": "1XQLnjTK5Ivb"
      },
      "source": [
        "# Seperating independent and dependent variables\n",
        "X = data_class.iloc[:,[1,3,6]].values\n",
        "y = data_class.iloc[:,-3].values.reshape(-1,1)\n",
        "\n",
        "#splitting into training and test set\n",
        "#from sklearn.model_selection import train_test_split\n",
        "X_train, X_test, y_train, y_test = train_test_split( X, y, test_size=0.2, random_state=1001)\n",
        "\n",
        "#Multiple linear regression\n",
        "#from sklearn.linear_model import LinearRegression\n",
        "regressor = LinearRegression()\n",
        "regressor.fit(X_train, y_train)"
      ],
      "execution_count": null,
      "outputs": []
    },
    {
      "cell_type": "markdown",
      "metadata": {
        "id": "gmLF7TdK5Ive"
      },
      "source": [
        "<a id=\"T61\"></a>\n",
        "## Insignificant variable based on OLS summary"
      ]
    },
    {
      "cell_type": "markdown",
      "metadata": {
        "id": "7tm17xS75Ive"
      },
      "source": [
        "* _The significance of a regression coefficient in a regression model is determined by dividing the estimated coefficient over the standard deviation of this estimate._\n",
        "* _For statistical significance we expect the absolute value of the t-ratio to be greater than 2 or the_\n",
        "* _P-value to be less than the significance level (α=0.01 or 0.05 or 0,1)._"
      ]
    },
    {
      "cell_type": "code",
      "metadata": {
        "trusted": true,
        "id": "r3B97uBa5Ivf"
      },
      "source": [
        "#Summary of the model\n",
        "#from statsmodels.api import OLS\n",
        "summ=OLS(y_train,X_train).fit()\n",
        "summ.summary()"
      ],
      "execution_count": null,
      "outputs": []
    },
    {
      "cell_type": "markdown",
      "metadata": {
        "id": "D0X6G0tl5Ivh"
      },
      "source": [
        "> **The regression model summary shows that the hsc and degree predictor variables are statistically significant because their p-values equal 0.000.**\n",
        "\n",
        "> **The x1 i.e. ssc variable has a p-value 0.004**"
      ]
    },
    {
      "cell_type": "markdown",
      "metadata": {
        "id": "902AKebP5Ivl"
      },
      "source": [
        "**_Drop the ssc feature_**"
      ]
    },
    {
      "cell_type": "markdown",
      "metadata": {
        "id": "XW500RaG5Ivl"
      },
      "source": [
        "<a id=\"T62\"></a>\n",
        "## Retrain the model"
      ]
    },
    {
      "cell_type": "code",
      "metadata": {
        "trusted": true,
        "id": "5Sthxq4M5Ivm"
      },
      "source": [
        "# Seperating independent and dependent variables\n",
        "X = data_class.iloc[:,[3,6]].values\n",
        "y = data_class.iloc[:,-3].values.reshape(-1,1)\n",
        "\n",
        "#splitting into training and test set\n",
        "#from sklearn.model_selection import train_test_split\n",
        "X_train, X_test, y_train, y_test = train_test_split( X, y, test_size=0.2, random_state=1001)\n",
        "\n",
        "#Multiple linear regression\n",
        "#from sklearn.linear_model import LinearRegression\n",
        "regressor = LinearRegression()\n",
        "regressor.fit(X_train, y_train)"
      ],
      "execution_count": null,
      "outputs": []
    },
    {
      "cell_type": "code",
      "metadata": {
        "trusted": true,
        "id": "BEDdyq815Ivr"
      },
      "source": [
        "#predict the values\n",
        "y_pred_m = regressor.predict(X_test)"
      ],
      "execution_count": null,
      "outputs": []
    },
    {
      "cell_type": "code",
      "metadata": {
        "trusted": true,
        "id": "arN-Aqd-5Ivt"
      },
      "source": [
        "#Summary of the model\n",
        "#from statsmodels.api import OLS\n",
        "summ=OLS(y_train,X_train).fit()\n",
        "summ.summary()"
      ],
      "execution_count": null,
      "outputs": []
    },
    {
      "cell_type": "code",
      "metadata": {
        "trusted": true,
        "id": "59Uiotr55Iv8"
      },
      "source": [
        "#from sklearn.metrics import r2_score, classification_report\n",
        "#R2 score\n",
        "print(\"R2 score:\" + str(r2_score(y_test, y_pred_m)))\n",
        "\n",
        "#model p values\n",
        "print(\"regression coeff:\" + str(regressor.coef_))\n",
        "print(\"regression intercept:\" + str(regressor.intercept_))\n",
        "print(\"mba_p = \" + str(regressor.coef_[0][0]) + \" x hsc_p + \" + str(regressor.coef_[0][1]) + \" x degree_p + \" + str(regressor.intercept_[0]))"
      ],
      "execution_count": null,
      "outputs": []
    },
    {
      "cell_type": "markdown",
      "metadata": {
        "id": "QN0ScfM35IwA"
      },
      "source": [
        "<a id=\"T63\"></a>\n",
        "## Observations true vs predicted"
      ]
    },
    {
      "cell_type": "code",
      "metadata": {
        "trusted": true,
        "id": "O4Ph0_T15IwB"
      },
      "source": [
        "np.set_printoptions(precision=2)\n",
        "dff = pd.DataFrame(list(zip(y_test, y_pred_m.round(2))),columns=(\"Target\",\"Predicted\"))\n",
        "dff.head(8)"
      ],
      "execution_count": null,
      "outputs": []
    }
  ]
}